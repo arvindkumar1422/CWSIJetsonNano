{
  "cells": [
    {
      "cell_type": "code",
      "execution_count": 16,
      "metadata": {
        "colab": {
          "base_uri": "https://localhost:8080/",
          "height": 1000
        },
        "id": "kUs5UQ8phgGa",
        "outputId": "5e353205-9e35-4c07-b19e-d8babf4c2904"
      },
      "outputs": [
        {
          "name": "stdout",
          "output_type": "stream",
          "text": [
            "Temperature at selected point: 255.00\n",
            "Temperature at selected point: 255.00\n",
            "Temperature at selected point: 255.00\n",
            "Temperature at selected point: 255.00\n",
            "Temperature at selected point: 235.00\n",
            "Temperature at selected point: 255.00\n",
            "Temperature at selected point: 255.00\n",
            "Temperature at selected point: 185.00\n",
            "Temperature at selected point: 248.00\n",
            "Temperature at selected point: 255.00\n",
            "Temperature at selected point: 255.00\n",
            "Total Heat of the Image: 166067534.00\n",
            "Average Heat of the Image: 230.67\n",
            "Temperature at Selected Point: 255.00\n"
          ]
        }
      ],
      "source": [
        "import numpy as np\n",
        "import cv2\n",
        "\n",
        "# Global variables to store coordinates of the selected point and temperature\n",
        "selected_point = (-1, -1)\n",
        "temperature_at_point = None\n",
        "\n",
        "# Load the image\n",
        "photo = cv2.imread('C:\\\\Users\\\\karth\\\\Downloads\\\\New folder\\\\rgb.png')\n",
        "\n",
        "if photo is None:\n",
        "    print(\"Error: Image not loaded.\")\n",
        "    exit()\n",
        "\n",
        "# Apply a colormap for thermal effect\n",
        "thermal = cv2.applyColorMap(photo, cv2.COLORMAP_HOT)\n",
        "\n",
        "# Function to calculate heat\n",
        "def calculate_heat(thermal_image):\n",
        "    # Read the thermal image\n",
        "    red_channel = thermal_image[..., 2]  # Red channel intensity represents \"temperature\"\n",
        "\n",
        "    # Calculate total heat (sum of intensities in all pixels)\n",
        "    total_heat = np.sum(red_channel)\n",
        "\n",
        "    # Calculate average heat (mean intensity of all pixels)\n",
        "    average_heat = np.mean(red_channel)\n",
        "\n",
        "    return total_heat, average_heat\n",
        "\n",
        "# Function to handle mouse click events\n",
        "def on_mouse_click(event, x, y, flags, param):\n",
        "    global selected_point, temperature_at_point\n",
        "    if event == cv2.EVENT_LBUTTONDOWN:  # Left mouse button clicked\n",
        "        if 0 <= x < thermal.shape[1] and 0 <= y < thermal.shape[0]:  # Check if coordinates are within image bounds\n",
        "            selected_point = (x, y)\n",
        "            temperature_at_point = thermal[y, x, 2]  # Access the red channel intensity at the selected point\n",
        "            print(\"Temperature at selected point: {:.2f}\".format(temperature_at_point))\n",
        "        else:\n",
        "            print(\"Error: Selected point is out of image bounds.\")\n",
        "\n",
        "# Display thermal image and allow point selection\n",
        "cv2.namedWindow(\"THERMAL IMAGE\")\n",
        "cv2.setMouseCallback(\"THERMAL IMAGE\", on_mouse_click)\n",
        "cv2.imshow(\"THERMAL IMAGE\", thermal)\n",
        "cv2.waitKey(0)  # Wait indefinitely for a mouse click\n",
        "cv2.destroyAllWindows()\n",
        "\n",
        "# Calculate total heat and average heat of the thermal image\n",
        "total_heat, average_heat = calculate_heat(thermal)\n",
        "print(\"Total Heat of the Image: {:.2f}\".format(total_heat))\n",
        "print(\"Average Heat of the Image: {:.2f}\".format(average_heat))\n",
        "\n",
        "# Print temperature at selected point if available\n",
        "if temperature_at_point is not None:\n",
        "    print(\"Temperature at Selected Point: {:.2f}\".format(temperature_at_point))\n",
        "else:\n",
        "    print(\"No point selected.\")\n"
      ]
    }
  ],
  "metadata": {
    "colab": {
      "provenance": []
    },
    "kernelspec": {
      "display_name": "Python 3",
      "name": "python3"
    },
    "language_info": {
      "codemirror_mode": {
        "name": "ipython",
        "version": 3
      },
      "file_extension": ".py",
      "mimetype": "text/x-python",
      "name": "python",
      "nbconvert_exporter": "python",
      "pygments_lexer": "ipython3",
      "version": "3.12.0"
    }
  },
  "nbformat": 4,
  "nbformat_minor": 0
}
