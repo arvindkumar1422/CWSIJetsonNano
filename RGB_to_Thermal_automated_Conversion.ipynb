{
  "cells": [
    {
      "cell_type": "code",
      "source": [
        "import os\n",
        "import numpy as np\n",
        "import cv2\n",
        "\n",
        "# Set the paths for the input and output folders\n",
        "input_folder = '/content/Plant Dataset'\n",
        "output_folder = '/content/Output Folder'\n",
        "\n",
        "# Create the output folder if it doesn't exist\n",
        "if not os.path.exists(output_folder):\n",
        "    os.makedirs(output_folder)\n",
        "\n",
        "# Loop through all files in the input folder\n",
        "for filename in os.listdir(input_folder):\n",
        "    # Check if the file is an image\n",
        "    if filename.endswith(('.jpg', '.jpeg', '.png', '.bmp')):\n",
        "        # Load the image\n",
        "        image_path = os.path.join(input_folder, filename)\n",
        "        photo = cv2.imread(image_path)\n",
        "\n",
        "        # Convert to grayscale\n",
        "        gray = cv2.cvtColor(photo, cv2.COLOR_BGR2GRAY)\n",
        "\n",
        "        # Apply a colormap for thermal effect\n",
        "        thermal = cv2.applyColorMap(gray, cv2.COLORMAP_HOT)\n",
        "\n",
        "        # Save the thermal image to the output folder\n",
        "        output_path = os.path.join(output_folder, f'thermal_{filename}')\n",
        "        cv2.imwrite(output_path, thermal)\n",
        "        print(f'Converted image saved to {output_path}')"
      ],
      "metadata": {
        "colab": {
          "base_uri": "https://localhost:8080/"
        },
        "id": "E3edzJAwH5tx",
        "outputId": "403d5763-f82e-44f4-e3fd-b7bdee8527e0"
      },
      "execution_count": 1,
      "outputs": [
        {
          "output_type": "stream",
          "name": "stdout",
          "text": [
            "Converted image saved to /content/Output Folder/thermal_IMG20240318084108.jpg\n",
            "Converted image saved to /content/Output Folder/thermal_IMG20240318084244.jpg\n",
            "Converted image saved to /content/Output Folder/thermal_IMG20240318084307.jpg\n",
            "Converted image saved to /content/Output Folder/thermal_IMG20240318084322.jpg\n",
            "Converted image saved to /content/Output Folder/thermal_IMG20240318084223.jpg\n",
            "Converted image saved to /content/Output Folder/thermal_IMG20240318084058.jpg\n",
            "Converted image saved to /content/Output Folder/thermal_IMG20240318084401.jpg\n",
            "Converted image saved to /content/Output Folder/thermal_IMG20240318084201.jpg\n",
            "Converted image saved to /content/Output Folder/thermal_IMG20240318084208.jpg\n",
            "Converted image saved to /content/Output Folder/thermal_IMG20240318084151.jpg\n",
            "Converted image saved to /content/Output Folder/thermal_IMG20240318083852.jpg\n",
            "Converted image saved to /content/Output Folder/thermal_IMG20240318084127.jpg\n",
            "Converted image saved to /content/Output Folder/thermal_IMG20240318084337.jpg\n",
            "Converted image saved to /content/Output Folder/thermal_IMG20240318084041.jpg\n",
            "Converted image saved to /content/Output Folder/thermal_IMG20240318084227.jpg\n",
            "Converted image saved to /content/Output Folder/thermal_IMG20240318084333.jpg\n",
            "Converted image saved to /content/Output Folder/thermal_IMG20240318084132.jpg\n",
            "Converted image saved to /content/Output Folder/thermal_IMG20240318084240.jpg\n",
            "Converted image saved to /content/Output Folder/thermal_IMG20240318084343.jpg\n",
            "Converted image saved to /content/Output Folder/thermal_IMG20240318084119.jpg\n",
            "Converted image saved to /content/Output Folder/thermal_IMG20240318084032.jpg\n",
            "Converted image saved to /content/Output Folder/thermal_IMG20240318084310.jpg\n",
            "Converted image saved to /content/Output Folder/thermal_IMG20240318084113.jpg\n",
            "Converted image saved to /content/Output Folder/thermal_IMG20240318084229.jpg\n",
            "Converted image saved to /content/Output Folder/thermal_IMG20240318084215.jpg\n",
            "Converted image saved to /content/Output Folder/thermal_IMG20240318084052.jpg\n",
            "Converted image saved to /content/Output Folder/thermal_IMG20240318084352.jpg\n",
            "Converted image saved to /content/Output Folder/thermal_IMG20240318084044.jpg\n",
            "Converted image saved to /content/Output Folder/thermal_IMG20240318084206.jpg\n",
            "Converted image saved to /content/Output Folder/thermal_IMG20240318084220.jpg\n",
            "Converted image saved to /content/Output Folder/thermal_IMG20240318084250.jpg\n"
          ]
        }
      ]
    }
  ],
  "metadata": {
    "accelerator": "GPU",
    "colab": {
      "gpuType": "T4",
      "provenance": []
    },
    "kernelspec": {
      "display_name": "Python 3",
      "name": "python3"
    },
    "language_info": {
      "name": "python"
    }
  },
  "nbformat": 4,
  "nbformat_minor": 0
}